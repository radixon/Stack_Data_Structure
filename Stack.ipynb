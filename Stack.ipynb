{
 "cells": [
  {
   "cell_type": "code",
   "execution_count": 1,
   "metadata": {},
   "outputs": [],
   "source": [
    "class Stack:\n",
    "    def __init__(self):\n",
    "        self.elements = []\n",
    "    \n",
    "    def iisempty(self):\n",
    "        if len(self.elements) == 0:\n",
    "            print(\"Is Empty\")\n",
    "            True\n",
    "        else:\n",
    "            print(\"Is NOT Empty\")\n",
    "            False\n",
    "    \n",
    "    def peek(self):\n",
    "        print(self.elements[len(self.elements) - 1])\n",
    "    \n",
    "    def push(self,data):\n",
    "        self.elements.append(data)\n",
    "    \n",
    "    def pop(self):\n",
    "        value = self.elements[len(self.elements)-1]\n",
    "        self.elements.pop()\n",
    "        return value\n",
    "    "
   ]
  },
  {
   "cell_type": "code",
   "execution_count": 2,
   "metadata": {},
   "outputs": [
    {
     "name": "stdout",
     "output_type": "stream",
     "text": [
      "3\n",
      "Popped Value:  81\n",
      "64\n"
     ]
    }
   ],
   "source": [
    "money = Stack()\n",
    "money.push(3)\n",
    "money.peek()\n",
    "for i in range(10):\n",
    "    money.push(i**2)\n",
    "value = money.pop()\n",
    "print(\"Popped Value: \", value)\n",
    "money.peek()"
   ]
  },
  {
   "cell_type": "code",
   "execution_count": null,
   "metadata": {},
   "outputs": [],
   "source": []
  },
  {
   "cell_type": "code",
   "execution_count": null,
   "metadata": {},
   "outputs": [],
   "source": []
  },
  {
   "cell_type": "code",
   "execution_count": null,
   "metadata": {},
   "outputs": [],
   "source": []
  },
  {
   "cell_type": "code",
   "execution_count": null,
   "metadata": {},
   "outputs": [],
   "source": []
  }
 ],
 "metadata": {
  "kernelspec": {
   "display_name": "Python 3",
   "language": "python",
   "name": "python3"
  },
  "language_info": {
   "codemirror_mode": {
    "name": "ipython",
    "version": 3
   },
   "file_extension": ".py",
   "mimetype": "text/x-python",
   "name": "python",
   "nbconvert_exporter": "python",
   "pygments_lexer": "ipython3",
   "version": "3.7.9"
  }
 },
 "nbformat": 4,
 "nbformat_minor": 4
}
